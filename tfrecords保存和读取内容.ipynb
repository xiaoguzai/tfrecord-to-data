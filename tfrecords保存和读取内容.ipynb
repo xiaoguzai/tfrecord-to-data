{
 "cells": [
  {
   "cell_type": "code",
   "execution_count": 1,
   "id": "1dd889d8",
   "metadata": {},
   "outputs": [],
   "source": [
    "import tensorflow as tf\n",
    "value_city = u\"北京\".encode('utf-8')# 城市\n",
    "value_use_day = 7                      #最近7天打开淘宝次数\n",
    "value_pay = 289.4                      # 最近7 天消费金额\n",
    "value_poi = [b\"123\", b\"456\", b\"789\"]   #最近7天浏览电铺\n",
    "'''\n",
    "下面生成ByteList，Int64List和FloatList\n",
    "'''\n",
    "bl_city = tf.train.BytesList(value = [value_city])  ## tf.train.ByteList入参是list，所以要转为list\n",
    "il_use_day = tf.train.Int64List(value = [value_use_day])\n",
    "fl_pay = tf.train.FloatList(value = [value_pay])\n",
    "bl_poi = tf.train.BytesList(value = value_poi)\n",
    " \n",
    "'''\n",
    "下面生成tf.train.Feature\n",
    "'''\n",
    "feature_city = tf.train.Feature(bytes_list = bl_city)\n",
    "feature_use_day = tf.train.Feature(int64_list = il_use_day)\n",
    "feature_pay = tf.train.Feature(float_list = fl_pay)\n",
    "feature_poi = tf.train.Feature(bytes_list = bl_poi)\n",
    "#如果是单独的数据不能加上[]\n",
    "'''\n",
    "下面定义tf.train.Features\n",
    "'''\n",
    "feature_dict = {\"city\":feature_city,\"use_day\":feature_use_day,\"pay\":feature_pay,\"poi\":feature_poi}\n",
    "features = tf.train.Features(feature = feature_dict)\n",
    "'''\n",
    "下面定义tf.train.example\n",
    "'''\n",
    "example = tf.train.Example(features = features)"
   ]
  },
  {
   "cell_type": "code",
   "execution_count": 2,
   "id": "79e6cdf9",
   "metadata": {},
   "outputs": [],
   "source": [
    "path = \"./tfrecord\"\n",
    "with tf.io.TFRecordWriter(path) as file_writer:\n",
    "    file_writer.write(example.SerializeToString())"
   ]
  },
  {
   "cell_type": "code",
   "execution_count": 3,
   "id": "05be7ccc",
   "metadata": {},
   "outputs": [
    {
     "name": "stderr",
     "output_type": "stream",
     "text": [
      "2022-04-12 11:28:31.097819: I tensorflow/stream_executor/cuda/cuda_gpu_executor.cc:936] successful NUMA node read from SysFS had negative value (-1), but there must be at least one NUMA node, so returning NUMA node zero\n",
      "2022-04-12 11:28:31.102931: I tensorflow/stream_executor/cuda/cuda_gpu_executor.cc:936] successful NUMA node read from SysFS had negative value (-1), but there must be at least one NUMA node, so returning NUMA node zero\n",
      "2022-04-12 11:28:31.103266: I tensorflow/stream_executor/cuda/cuda_gpu_executor.cc:936] successful NUMA node read from SysFS had negative value (-1), but there must be at least one NUMA node, so returning NUMA node zero\n",
      "2022-04-12 11:28:31.103977: I tensorflow/core/platform/cpu_feature_guard.cc:151] This TensorFlow binary is optimized with oneAPI Deep Neural Network Library (oneDNN) to use the following CPU instructions in performance-critical operations:  AVX2 FMA\n",
      "To enable them in other operations, rebuild TensorFlow with the appropriate compiler flags.\n",
      "2022-04-12 11:28:31.104992: I tensorflow/stream_executor/cuda/cuda_gpu_executor.cc:936] successful NUMA node read from SysFS had negative value (-1), but there must be at least one NUMA node, so returning NUMA node zero\n",
      "2022-04-12 11:28:31.105595: I tensorflow/stream_executor/cuda/cuda_gpu_executor.cc:936] successful NUMA node read from SysFS had negative value (-1), but there must be at least one NUMA node, so returning NUMA node zero\n",
      "2022-04-12 11:28:31.105812: I tensorflow/stream_executor/cuda/cuda_gpu_executor.cc:936] successful NUMA node read from SysFS had negative value (-1), but there must be at least one NUMA node, so returning NUMA node zero\n",
      "2022-04-12 11:28:31.521435: I tensorflow/stream_executor/cuda/cuda_gpu_executor.cc:936] successful NUMA node read from SysFS had negative value (-1), but there must be at least one NUMA node, so returning NUMA node zero\n",
      "2022-04-12 11:28:31.521748: I tensorflow/stream_executor/cuda/cuda_gpu_executor.cc:936] successful NUMA node read from SysFS had negative value (-1), but there must be at least one NUMA node, so returning NUMA node zero\n",
      "2022-04-12 11:28:31.521935: I tensorflow/stream_executor/cuda/cuda_gpu_executor.cc:936] successful NUMA node read from SysFS had negative value (-1), but there must be at least one NUMA node, so returning NUMA node zero\n",
      "2022-04-12 11:28:31.522218: I tensorflow/core/common_runtime/gpu/gpu_device.cc:1525] Created device /job:localhost/replica:0/task:0/device:GPU:0 with 1107 MB memory:  -> device: 0, name: NVIDIA GeForce RTX 3060 Laptop GPU, pci bus id: 0000:01:00.0, compute capability: 8.6\n"
     ]
    }
   ],
   "source": [
    "path = \"./tfrecord\"\n",
    "data = tf.data.TFRecordDataset(path)"
   ]
  },
  {
   "cell_type": "code",
   "execution_count": 4,
   "id": "c8b11910",
   "metadata": {},
   "outputs": [],
   "source": [
    "def decode_fn(record_bytes):\n",
    "    return tf.io.parse_single_example(\n",
    "    record_bytes,\n",
    "    {\n",
    "        \"city\":tf.io.FixedLenFeature([],dtype = tf.string),\n",
    "        \"use_day\":tf.io.FixedLenFeature([],dtype = tf.int64),\n",
    "        \"pay\":tf.io.FixedLenFeature([],dtype = tf.float32),\n",
    "        \"poi\":tf.io.VarLenFeature(dtype=tf.string)\n",
    "        \n",
    "    })\n",
    "data2 = data.map(decode_fn)\n",
    "data2 = data2.shuffle(buffer_size = 2000)"
   ]
  },
  {
   "cell_type": "code",
   "execution_count": 5,
   "id": "a7f0cea0",
   "metadata": {},
   "outputs": [
    {
     "data": {
      "text/plain": [
       "<TFRecordDatasetV2 element_spec=TensorSpec(shape=(), dtype=tf.string, name=None)>"
      ]
     },
     "execution_count": 5,
     "metadata": {},
     "output_type": "execute_result"
    }
   ],
   "source": [
    "data"
   ]
  },
  {
   "cell_type": "code",
   "execution_count": 6,
   "id": "8922e2b2",
   "metadata": {},
   "outputs": [
    {
     "name": "stdout",
     "output_type": "stream",
     "text": [
      "{'poi': <tensorflow.python.framework.sparse_tensor.SparseTensor object at 0x7f00101169a0>, 'city': <tf.Tensor: shape=(), dtype=string, numpy=b'\\xe5\\x8c\\x97\\xe4\\xba\\xac'>, 'pay': <tf.Tensor: shape=(), dtype=float32, numpy=289.4>, 'use_day': <tf.Tensor: shape=(), dtype=int64, numpy=7>}\n"
     ]
    }
   ],
   "source": [
    "for batch in data:\n",
    "    #print(decode_fn(batch))\n",
    "    current_data = decode_fn(batch)\n",
    "    print(current_data)\n",
    "    #print(tf.sparse.to_dense(current_data['poi']))"
   ]
  },
  {
   "cell_type": "code",
   "execution_count": 7,
   "id": "79871f8a",
   "metadata": {},
   "outputs": [
    {
     "name": "stdout",
     "output_type": "stream",
     "text": [
      "current_city = \n",
      "北京\n",
      "current_poi = \n",
      "[b'123' b'456' b'789']\n",
      "current_pay = \n",
      "289.4\n",
      "current_use_day = \n",
      "7\n"
     ]
    }
   ],
   "source": [
    "for batch in data:\n",
    "    current_data = decode_fn(batch)\n",
    "    current_poi = current_data['poi']\n",
    "    current_city = current_data['city']\n",
    "    current_pay = current_data['pay']\n",
    "    current_use_day = current_data['use_day']\n",
    "    current_poi = tf.sparse.to_dense(current_poi)\n",
    "    r\"\"\"\n",
    "    current_poi = tf.make_tensor_proto(current_poi)\n",
    "    current_city = tf.make_tensor_proto(current_city)\n",
    "    current_pay = tf.make_tensor_proto(current_pay)\n",
    "    current_use_day = tf.make_tensor_proto(current_use_day)\n",
    "    print('current_poi = ')\n",
    "    print(current_poi[\"string_val\"])\n",
    "    print('current_city = ')\n",
    "    print(current_city[\"string_val\"])\n",
    "    print('current_pay = ')\n",
    "    print(current_pay[\"float_val\"])\n",
    "    print('current_use_day = ')\n",
    "    print(current_use_day[\"int64_val\"])\n",
    "    \"\"\"\n",
    "    current_city = current_city.numpy()\n",
    "    current_poi = current_poi.numpy()\n",
    "    current_pay = current_pay.numpy()\n",
    "    current_use_day = current_use_day.numpy()\n",
    "    print('current_city = ')\n",
    "    print(current_city.decode('utf-8'))\n",
    "    print('current_poi = ')\n",
    "    print(current_poi)\n",
    "    print('current_pay = ')\n",
    "    print(current_pay)\n",
    "    print('current_use_day = ')\n",
    "    print(current_use_day)"
   ]
  },
  {
   "cell_type": "markdown",
   "id": "339d15ba",
   "metadata": {},
   "source": [
    "## 当数据增多并且变为list的情况下"
   ]
  },
  {
   "cell_type": "code",
   "execution_count": 8,
   "id": "71a2100d",
   "metadata": {},
   "outputs": [],
   "source": [
    "import tensorflow as tf\n",
    "value_city = [u\"北京\".encode('utf-8'),\\\n",
    "              u\"南京\".encode('utf-8')]# 城市\n",
    "value_use_day = [7,9]                      #最近7天打开淘宝次数\n",
    "value_pay = [289.4,310.6]                      # 最近7 天消费金额\n",
    "#value_poi = [[b\"123\", b\"456\", b\"789\"],\\\n",
    "#             [b\"456\", b\"123\", b\"111\"]]#最近7天浏览电铺\n",
    "\n",
    "#value_poi = [b\"123\",b\"456\"]\n",
    "\n",
    "#下面生成ByteList，Int64List和FloatList\n",
    "\n",
    "bl_city = tf.train.BytesList(value = value_city)  ## tf.train.ByteList入参是list，所以要转为list\n",
    "il_use_day = tf.train.Int64List(value = value_use_day)\n",
    "fl_pay = tf.train.FloatList(value = value_pay)\n",
    " \n",
    "\n",
    "#下面生成tf.train.Feature\n",
    "\n",
    "feature_city = tf.train.Feature(bytes_list = bl_city)\n",
    "feature_use_day = tf.train.Feature(int64_list = il_use_day)\n",
    "feature_pay = tf.train.Feature(float_list = fl_pay)\n",
    "#如果是单独的数据不能加上[]\n",
    "#下面定义tf.train.Features\n",
    "\n",
    "feature_dict = {\"city\":feature_city,\"use_day\":feature_use_day,\"pay\":feature_pay}\n",
    "features = tf.train.Features(feature = feature_dict)\n",
    "\n",
    "#下面定义tf.train.example\n",
    "example = tf.train.Example(features = features)"
   ]
  },
  {
   "cell_type": "code",
   "execution_count": 9,
   "id": "f3cef9ae",
   "metadata": {},
   "outputs": [],
   "source": [
    "path = \"./tfrecord\"\n",
    "with tf.io.TFRecordWriter(path) as file_writer:\n",
    "    file_writer.write(example.SerializeToString())"
   ]
  },
  {
   "cell_type": "code",
   "execution_count": 10,
   "id": "072561f0",
   "metadata": {},
   "outputs": [],
   "source": [
    "path = \"./tfrecord\"\n",
    "data = tf.data.TFRecordDataset(path)"
   ]
  },
  {
   "cell_type": "code",
   "execution_count": 11,
   "id": "686decdb",
   "metadata": {},
   "outputs": [],
   "source": [
    "def get_dataset(ds,batch_size=16, repeat=False, cache=False, shuffle=False):\n",
    "    if cache:\n",
    "        ds = ds.cache()\n",
    "    if repeat:\n",
    "        ds = ds.repeat()\n",
    "    if shuffle:\n",
    "        ds = ds.shuffle(1024)\n",
    "        opt = tf.data.Options()\n",
    "        opt.experimental_deterministic = False\n",
    "        ds = ds.with_options(opt)\n",
    "    ds = ds.map(decode_fn)\n",
    "    ds = ds.batch(batch_size, drop_remainder=False)\n",
    "    #ds = ds.prefetch(buffer_size=AUTOTUNE)\n",
    "    return ds"
   ]
  },
  {
   "cell_type": "code",
   "execution_count": 12,
   "id": "2e09b3ab",
   "metadata": {},
   "outputs": [],
   "source": [
    "def decode_fn(record_bytes):\n",
    "    return tf.io.parse_single_example(\n",
    "    record_bytes,\n",
    "    {\n",
    "        \"city\":tf.io.FixedLenFeature((2),dtype = tf.string),\n",
    "        \"use_day\":tf.io.FixedLenFeature((2),dtype = tf.int64),\n",
    "        \"pay\":tf.io.FixedLenFeature((2),dtype = tf.float32),\n",
    "        #\"poi\":tf.io.VarLenFeature(dtype=tf.string)\n",
    "    })\n",
    "    #这里如果为数组必须指定维度\n",
    "#data2 = get_dataset(data,batch_size=16)\n",
    "data2 = data.map(decode_fn)\n",
    "data2 = data2.shuffle(12)"
   ]
  },
  {
   "cell_type": "code",
   "execution_count": 13,
   "id": "e0bdaf75",
   "metadata": {},
   "outputs": [
    {
     "name": "stdout",
     "output_type": "stream",
     "text": [
      "current_data = \n",
      "{'poi': <tensorflow.python.framework.sparse_tensor.SparseTensor object at 0x7f00100a60a0>, 'city': <tf.Tensor: shape=(), dtype=string, numpy=b'\\xe5\\x8c\\x97\\xe4\\xba\\xac'>, 'pay': <tf.Tensor: shape=(), dtype=float32, numpy=289.4>, 'use_day': <tf.Tensor: shape=(), dtype=int64, numpy=7>}\n"
     ]
    },
    {
     "ename": "AttributeError",
     "evalue": "'int' object has no attribute 'decode'",
     "output_type": "error",
     "traceback": [
      "\u001b[0;31m---------------------------------------------------------------------------\u001b[0m",
      "\u001b[0;31mAttributeError\u001b[0m                            Traceback (most recent call last)",
      "\u001b[0;32m/tmp/ipykernel_11877/263721014.py\u001b[0m in \u001b[0;36m<module>\u001b[0;34m\u001b[0m\n\u001b[1;32m     27\u001b[0m     \u001b[0mcurrent_pay\u001b[0m \u001b[0;34m=\u001b[0m \u001b[0mcurrent_pay\u001b[0m\u001b[0;34m.\u001b[0m\u001b[0mnumpy\u001b[0m\u001b[0;34m(\u001b[0m\u001b[0;34m)\u001b[0m\u001b[0;34m\u001b[0m\u001b[0;34m\u001b[0m\u001b[0m\n\u001b[1;32m     28\u001b[0m     \u001b[0mcurrent_use_day\u001b[0m \u001b[0;34m=\u001b[0m \u001b[0mcurrent_use_day\u001b[0m\u001b[0;34m.\u001b[0m\u001b[0mnumpy\u001b[0m\u001b[0;34m(\u001b[0m\u001b[0;34m)\u001b[0m\u001b[0;34m\u001b[0m\u001b[0;34m\u001b[0m\u001b[0m\n\u001b[0;32m---> 29\u001b[0;31m     \u001b[0mcurrent_city\u001b[0m \u001b[0;34m=\u001b[0m \u001b[0;34m[\u001b[0m\u001b[0mdata\u001b[0m\u001b[0;34m.\u001b[0m\u001b[0mdecode\u001b[0m\u001b[0;34m(\u001b[0m\u001b[0;34m'utf-8'\u001b[0m\u001b[0;34m)\u001b[0m \u001b[0;32mfor\u001b[0m \u001b[0mdata\u001b[0m \u001b[0;32min\u001b[0m \u001b[0mcurrent_city\u001b[0m\u001b[0;34m]\u001b[0m\u001b[0;34m\u001b[0m\u001b[0;34m\u001b[0m\u001b[0m\n\u001b[0m\u001b[1;32m     30\u001b[0m     \u001b[0mprint\u001b[0m\u001b[0;34m(\u001b[0m\u001b[0;34m'current_city = '\u001b[0m\u001b[0;34m)\u001b[0m\u001b[0;34m\u001b[0m\u001b[0;34m\u001b[0m\u001b[0m\n\u001b[1;32m     31\u001b[0m     \u001b[0mprint\u001b[0m\u001b[0;34m(\u001b[0m\u001b[0mcurrent_city\u001b[0m\u001b[0;34m)\u001b[0m\u001b[0;34m\u001b[0m\u001b[0;34m\u001b[0m\u001b[0m\n",
      "\u001b[0;32m/tmp/ipykernel_11877/263721014.py\u001b[0m in \u001b[0;36m<listcomp>\u001b[0;34m(.0)\u001b[0m\n\u001b[1;32m     27\u001b[0m     \u001b[0mcurrent_pay\u001b[0m \u001b[0;34m=\u001b[0m \u001b[0mcurrent_pay\u001b[0m\u001b[0;34m.\u001b[0m\u001b[0mnumpy\u001b[0m\u001b[0;34m(\u001b[0m\u001b[0;34m)\u001b[0m\u001b[0;34m\u001b[0m\u001b[0;34m\u001b[0m\u001b[0m\n\u001b[1;32m     28\u001b[0m     \u001b[0mcurrent_use_day\u001b[0m \u001b[0;34m=\u001b[0m \u001b[0mcurrent_use_day\u001b[0m\u001b[0;34m.\u001b[0m\u001b[0mnumpy\u001b[0m\u001b[0;34m(\u001b[0m\u001b[0;34m)\u001b[0m\u001b[0;34m\u001b[0m\u001b[0;34m\u001b[0m\u001b[0m\n\u001b[0;32m---> 29\u001b[0;31m     \u001b[0mcurrent_city\u001b[0m \u001b[0;34m=\u001b[0m \u001b[0;34m[\u001b[0m\u001b[0mdata\u001b[0m\u001b[0;34m.\u001b[0m\u001b[0mdecode\u001b[0m\u001b[0;34m(\u001b[0m\u001b[0;34m'utf-8'\u001b[0m\u001b[0;34m)\u001b[0m \u001b[0;32mfor\u001b[0m \u001b[0mdata\u001b[0m \u001b[0;32min\u001b[0m \u001b[0mcurrent_city\u001b[0m\u001b[0;34m]\u001b[0m\u001b[0;34m\u001b[0m\u001b[0;34m\u001b[0m\u001b[0m\n\u001b[0m\u001b[1;32m     30\u001b[0m     \u001b[0mprint\u001b[0m\u001b[0;34m(\u001b[0m\u001b[0;34m'current_city = '\u001b[0m\u001b[0;34m)\u001b[0m\u001b[0;34m\u001b[0m\u001b[0;34m\u001b[0m\u001b[0m\n\u001b[1;32m     31\u001b[0m     \u001b[0mprint\u001b[0m\u001b[0;34m(\u001b[0m\u001b[0mcurrent_city\u001b[0m\u001b[0;34m)\u001b[0m\u001b[0;34m\u001b[0m\u001b[0;34m\u001b[0m\u001b[0m\n",
      "\u001b[0;31mAttributeError\u001b[0m: 'int' object has no attribute 'decode'"
     ]
    }
   ],
   "source": [
    "for batch in data2:\n",
    "    #for current_data in batch:\n",
    "    #current_data = decode_fn(batch)\n",
    "    print('current_data = ')\n",
    "    print(current_data)\n",
    "    #current_poi = current_data['poi']\n",
    "    current_city = current_data['city']\n",
    "    current_pay = current_data['pay']\n",
    "    current_use_day = current_data['use_day']\n",
    "    #current_poi = tf.sparse.to_dense(current_poi)\n",
    "    r\"\"\"\n",
    "    current_poi = tf.make_tensor_proto(current_poi)\n",
    "    current_city = tf.make_tensor_proto(current_city)\n",
    "    current_pay = tf.make_tensor_proto(current_pay)\n",
    "    current_use_day = tf.make_tensor_proto(current_use_day)\n",
    "    print('current_poi = ')\n",
    "    print(current_poi[\"string_val\"])\n",
    "    print('current_city = ')\n",
    "    print(current_city[\"string_val\"])\n",
    "    print('current_pay = ')\n",
    "    print(current_pay[\"float_val\"])\n",
    "    print('current_use_day = ')\n",
    "    print(current_use_day[\"int64_val\"])\n",
    "    \"\"\"\n",
    "    current_city = current_city.numpy()\n",
    "    #current_poi = current_poi.numpy()\n",
    "    current_pay = current_pay.numpy()\n",
    "    current_use_day = current_use_day.numpy()\n",
    "    current_city = [data.decode('utf-8') for data in current_city]\n",
    "    print('current_city = ')\n",
    "    print(current_city)\n",
    "    #print('current_poi = ')\n",
    "    #print(current_poi)\n",
    "    print('current_pay = ')\n",
    "    print(current_pay)\n",
    "    print('current_use_day = ')\n",
    "    print(current_use_day)"
   ]
  },
  {
   "cell_type": "code",
   "execution_count": null,
   "id": "94b9d5d3",
   "metadata": {},
   "outputs": [],
   "source": []
  }
 ],
 "metadata": {
  "kernelspec": {
   "display_name": "Python 3 (ipykernel)",
   "language": "python",
   "name": "python3"
  },
  "language_info": {
   "codemirror_mode": {
    "name": "ipython",
    "version": 3
   },
   "file_extension": ".py",
   "mimetype": "text/x-python",
   "name": "python",
   "nbconvert_exporter": "python",
   "pygments_lexer": "ipython3",
   "version": "3.9.5"
  }
 },
 "nbformat": 4,
 "nbformat_minor": 5
}
